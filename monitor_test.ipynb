{
 "cells": [
  {
   "cell_type": "code",
   "execution_count": 1,
   "id": "f11dd2ca-7722-4599-91fd-873146918fb4",
   "metadata": {},
   "outputs": [
    {
     "name": "stdout",
     "output_type": "stream",
     "text": [
      "Monitoring is working ...\n"
     ]
    },
    {
     "ename": "KeyboardInterrupt",
     "evalue": "",
     "output_type": "error",
     "traceback": [
      "\u001b[0;31m---------------------------------------------------------------------------\u001b[0m",
      "\u001b[0;31mKeyboardInterrupt\u001b[0m                         Traceback (most recent call last)",
      "Cell \u001b[0;32mIn[1], line 4\u001b[0m\n\u001b[1;32m      1\u001b[0m \u001b[38;5;28;01mfrom\u001b[39;00m \u001b[38;5;21;01mmonitorlib\u001b[39;00m \u001b[38;5;28;01mimport\u001b[39;00m Monitorpc\n\u001b[1;32m      3\u001b[0m pc \u001b[38;5;241m=\u001b[39m Monitorpc(Tf \u001b[38;5;241m=\u001b[39m \u001b[38;5;241m60\u001b[39m\u001b[38;5;241m*\u001b[39m\u001b[38;5;241m60\u001b[39m)\n\u001b[0;32m----> 4\u001b[0m \u001b[43mpc\u001b[49m\u001b[38;5;241;43m.\u001b[39;49m\u001b[43mstart\u001b[49m\u001b[43m(\u001b[49m\u001b[43m)\u001b[49m\n",
      "File \u001b[0;32m~/automat/monitorlib.py:28\u001b[0m, in \u001b[0;36mstart\u001b[0;34m(self)\u001b[0m\n\u001b[1;32m     25\u001b[0m \u001b[38;5;28;01mwith\u001b[39;00m mouse\u001b[38;5;241m.\u001b[39mListener(on_move\u001b[38;5;241m=\u001b[39m\u001b[38;5;28mself\u001b[39m\u001b[38;5;241m.\u001b[39mon_move, on_click\u001b[38;5;241m=\u001b[39m\u001b[38;5;28mself\u001b[39m\u001b[38;5;241m.\u001b[39mon_click, on_scroll\u001b[38;5;241m=\u001b[39m\u001b[38;5;28mself\u001b[39m\u001b[38;5;241m.\u001b[39mon_scroll) \u001b[38;5;28;01mas\u001b[39;00m listener_mouse, \\\n\u001b[1;32m     26\u001b[0m     keyboard\u001b[38;5;241m.\u001b[39mListener(on_press\u001b[38;5;241m=\u001b[39m\u001b[38;5;28mself\u001b[39m\u001b[38;5;241m.\u001b[39mon_press) \u001b[38;5;28;01mas\u001b[39;00m listener_keyboard:\n\u001b[1;32m     27\u001b[0m     \u001b[38;5;28;01mwhile\u001b[39;00m time\u001b[38;5;241m.\u001b[39mtime() \u001b[38;5;241m-\u001b[39m \u001b[38;5;28mself\u001b[39m\u001b[38;5;241m.\u001b[39mstart_time \u001b[38;5;241m<\u001b[39m \u001b[38;5;28mself\u001b[39m\u001b[38;5;241m.\u001b[39mTf:\n\u001b[0;32m---> 28\u001b[0m         \u001b[38;5;28mself\u001b[39m\u001b[38;5;241m.\u001b[39mscreenshots\u001b[38;5;241m.\u001b[39mappend(\u001b[38;5;28mself\u001b[39m\u001b[38;5;241m.\u001b[39mcapture_screen())\n\u001b[1;32m     29\u001b[0m         time\u001b[38;5;241m.\u001b[39msleep(\u001b[38;5;28mself\u001b[39m\u001b[38;5;241m.\u001b[39mTp)\n\u001b[1;32m     30\u001b[0m \u001b[38;5;28mself\u001b[39m\u001b[38;5;241m.\u001b[39msavedata()\n",
      "\u001b[0;31mKeyboardInterrupt\u001b[0m: "
     ]
    }
   ],
   "source": [
    "from monitorlib import Monitorpc\n",
    "\n",
    "pc = Monitorpc(Tf = 60*60)\n",
    "pc.start()"
   ]
  },
  {
   "cell_type": "code",
   "execution_count": 9,
   "id": "24abf9f1-61bc-4e58-b9d5-a552347a5fea",
   "metadata": {},
   "outputs": [
    {
     "data": {
      "text/plain": [
       "2412.0"
      ]
     },
     "execution_count": 9,
     "metadata": {},
     "output_type": "execute_result"
    }
   ],
   "source": [
    "6.7*60/10*60*1"
   ]
  },
  {
   "cell_type": "code",
   "execution_count": null,
   "id": "c36b36b6-e1a7-40bf-8b55-d04779fec871",
   "metadata": {},
   "outputs": [],
   "source": [
    "sudo apt-get install git\n",
    "\n",
    "To work locally\n",
    "\n",
    "git init  Iniica una reporsitorio local\n",
    "git add (files)   Añade archivos al Index\n",
    "git status   Checar el arbol de trabajo\n",
    "git commit    Update changes in Index\n",
    "\n",
    "To work remotely \n",
    "\n",
    "git push    Exportarlo al repositorio remoto\n",
    "git pull    Importar el repositorio remoto version ultima a la PC local\n",
    "git clone    Clona el repositorio en una nueva carpeta\n",
    "\n",
    "git config --global user.name 'Erik Zamora'\n",
    "git config --global user.email 'ezamora1981@gmail.com'\n",
    "git add .\n",
    "git add file1 file2\n",
    "git add *.py"
   ]
  },
  {
   "cell_type": "code",
   "execution_count": null,
   "id": "e1d56508-8a1f-45bd-a055-059d464cabf0",
   "metadata": {},
   "outputs": [],
   "source": [
    "Learning github desktop https://www.youtube.com/watch?v=8Dd7KRpKeaE\n",
    "\n",
    "https://gist.github.com/berkorbay/6feda478a00b0432d13f1fc0a50467f1\n",
    "\n",
    "## Follow this link for further updates to Github Desktop for Ubuntu https://github.com/shiftkey/desktop/releases/latest\n",
    "# UPDATE (2022-11-07): Thanks to Sxvxgee's message, the updated code is as follows\n",
    "sudo wget https://github.com/shiftkey/desktop/releases/download/release-3.1.1-linux1/GitHubDesktop-linux-3.1.1-linux1.deb\n",
    "sudo apt-get install gdebi-core \n",
    "sudo gdebi GitHubDesktop-linux-3.1.1-linux1.deb"
   ]
  }
 ],
 "metadata": {
  "kernelspec": {
   "display_name": "Python 3 (ipykernel)",
   "language": "python",
   "name": "python3"
  },
  "language_info": {
   "codemirror_mode": {
    "name": "ipython",
    "version": 3
   },
   "file_extension": ".py",
   "mimetype": "text/x-python",
   "name": "python",
   "nbconvert_exporter": "python",
   "pygments_lexer": "ipython3",
   "version": "3.10.0"
  }
 },
 "nbformat": 4,
 "nbformat_minor": 5
}
