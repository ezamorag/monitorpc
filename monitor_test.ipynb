{
 "cells": [
  {
   "cell_type": "code",
   "execution_count": 1,
   "id": "f11dd2ca-7722-4599-91fd-873146918fb4",
   "metadata": {},
   "outputs": [
    {
     "name": "stdout",
     "output_type": "stream",
     "text": [
      "Waiting for activation with ESC key ...\n"
     ]
    },
    {
     "ename": "ImportError",
     "evalue": "You must be root to use this library on linux.",
     "output_type": "error",
     "traceback": [
      "\u001b[0;31m---------------------------------------------------------------------------\u001b[0m",
      "\u001b[0;31mImportError\u001b[0m                               Traceback (most recent call last)",
      "Cell \u001b[0;32mIn[1], line 4\u001b[0m\n\u001b[1;32m      1\u001b[0m \u001b[38;5;28;01mfrom\u001b[39;00m \u001b[38;5;21;01mmonitorlib\u001b[39;00m \u001b[38;5;28;01mimport\u001b[39;00m Monitorpc\n\u001b[1;32m      3\u001b[0m pc \u001b[38;5;241m=\u001b[39m Monitorpc(Tf \u001b[38;5;241m=\u001b[39m \u001b[38;5;241m10\u001b[39m)\n\u001b[0;32m----> 4\u001b[0m \u001b[43mpc\u001b[49m\u001b[38;5;241;43m.\u001b[39;49m\u001b[43mstart\u001b[49m\u001b[43m(\u001b[49m\u001b[43m)\u001b[49m\n",
      "File \u001b[0;32m~/GitHub/monitorpc/monitorlib.py:55\u001b[0m, in \u001b[0;36mMonitorpc.start\u001b[0;34m(self)\u001b[0m\n\u001b[1;32m     53\u001b[0m \u001b[38;5;28;01mdef\u001b[39;00m \u001b[38;5;21mstart\u001b[39m(\u001b[38;5;28mself\u001b[39m):\n\u001b[1;32m     54\u001b[0m     \u001b[38;5;28mprint\u001b[39m(\u001b[38;5;124m\"\u001b[39m\u001b[38;5;124mWaiting for activation with ESC key ...\u001b[39m\u001b[38;5;124m\"\u001b[39m)\n\u001b[0;32m---> 55\u001b[0m     \u001b[43mkeyboard\u001b[49m\u001b[38;5;241;43m.\u001b[39;49m\u001b[43mwait\u001b[49m\u001b[43m(\u001b[49m\u001b[38;5;124;43m'\u001b[39;49m\u001b[38;5;124;43mesc\u001b[39;49m\u001b[38;5;124;43m'\u001b[39;49m\u001b[43m)\u001b[49m\n\u001b[1;32m     57\u001b[0m     \u001b[38;5;28mprint\u001b[39m(\u001b[38;5;124m\"\u001b[39m\u001b[38;5;124mMonitoring is working ...\u001b[39m\u001b[38;5;124m\"\u001b[39m)\n\u001b[1;32m     58\u001b[0m     \u001b[38;5;28mself\u001b[39m\u001b[38;5;241m.\u001b[39mstart_time \u001b[38;5;241m=\u001b[39m time\u001b[38;5;241m.\u001b[39mtime()\n",
      "File \u001b[0;32m~/miniconda3/envs/automat/lib/python3.10/site-packages/keyboard/__init__.py:881\u001b[0m, in \u001b[0;36mwait\u001b[0;34m(hotkey, suppress, trigger_on_release)\u001b[0m\n\u001b[1;32m    879\u001b[0m \u001b[38;5;28;01mif\u001b[39;00m hotkey:\n\u001b[1;32m    880\u001b[0m     lock \u001b[38;5;241m=\u001b[39m _Event()\n\u001b[0;32m--> 881\u001b[0m     remove \u001b[38;5;241m=\u001b[39m \u001b[43madd_hotkey\u001b[49m\u001b[43m(\u001b[49m\u001b[43mhotkey\u001b[49m\u001b[43m,\u001b[49m\u001b[43m \u001b[49m\u001b[38;5;28;43;01mlambda\u001b[39;49;00m\u001b[43m:\u001b[49m\u001b[43m \u001b[49m\u001b[43mlock\u001b[49m\u001b[38;5;241;43m.\u001b[39;49m\u001b[43mset\u001b[49m\u001b[43m(\u001b[49m\u001b[43m)\u001b[49m\u001b[43m,\u001b[49m\u001b[43m \u001b[49m\u001b[43msuppress\u001b[49m\u001b[38;5;241;43m=\u001b[39;49m\u001b[43msuppress\u001b[49m\u001b[43m,\u001b[49m\u001b[43m \u001b[49m\u001b[43mtrigger_on_release\u001b[49m\u001b[38;5;241;43m=\u001b[39;49m\u001b[43mtrigger_on_release\u001b[49m\u001b[43m)\u001b[49m\n\u001b[1;32m    882\u001b[0m     lock\u001b[38;5;241m.\u001b[39mwait()\n\u001b[1;32m    883\u001b[0m     remove_hotkey(remove)\n",
      "File \u001b[0;32m~/miniconda3/envs/automat/lib/python3.10/site-packages/keyboard/__init__.py:639\u001b[0m, in \u001b[0;36madd_hotkey\u001b[0;34m(hotkey, callback, args, suppress, timeout, trigger_on_release)\u001b[0m\n\u001b[1;32m    636\u001b[0m \u001b[38;5;28;01mif\u001b[39;00m args:\n\u001b[1;32m    637\u001b[0m     callback \u001b[38;5;241m=\u001b[39m \u001b[38;5;28;01mlambda\u001b[39;00m callback\u001b[38;5;241m=\u001b[39mcallback: callback(\u001b[38;5;241m*\u001b[39margs)\n\u001b[0;32m--> 639\u001b[0m \u001b[43m_listener\u001b[49m\u001b[38;5;241;43m.\u001b[39;49m\u001b[43mstart_if_necessary\u001b[49m\u001b[43m(\u001b[49m\u001b[43m)\u001b[49m\n\u001b[1;32m    641\u001b[0m steps \u001b[38;5;241m=\u001b[39m parse_hotkey_combinations(hotkey)\n\u001b[1;32m    643\u001b[0m event_type \u001b[38;5;241m=\u001b[39m KEY_UP \u001b[38;5;28;01mif\u001b[39;00m trigger_on_release \u001b[38;5;28;01melse\u001b[39;00m KEY_DOWN\n",
      "File \u001b[0;32m~/miniconda3/envs/automat/lib/python3.10/site-packages/keyboard/_generic.py:35\u001b[0m, in \u001b[0;36mGenericListener.start_if_necessary\u001b[0;34m(self)\u001b[0m\n\u001b[1;32m     33\u001b[0m \u001b[38;5;28;01mtry\u001b[39;00m:\n\u001b[1;32m     34\u001b[0m     \u001b[38;5;28;01mif\u001b[39;00m \u001b[38;5;129;01mnot\u001b[39;00m \u001b[38;5;28mself\u001b[39m\u001b[38;5;241m.\u001b[39mlistening:\n\u001b[0;32m---> 35\u001b[0m         \u001b[38;5;28;43mself\u001b[39;49m\u001b[38;5;241;43m.\u001b[39;49m\u001b[43minit\u001b[49m\u001b[43m(\u001b[49m\u001b[43m)\u001b[49m\n\u001b[1;32m     37\u001b[0m         \u001b[38;5;28mself\u001b[39m\u001b[38;5;241m.\u001b[39mlistening \u001b[38;5;241m=\u001b[39m \u001b[38;5;28;01mTrue\u001b[39;00m\n\u001b[1;32m     38\u001b[0m         \u001b[38;5;28mself\u001b[39m\u001b[38;5;241m.\u001b[39mlistening_thread \u001b[38;5;241m=\u001b[39m Thread(target\u001b[38;5;241m=\u001b[39m\u001b[38;5;28mself\u001b[39m\u001b[38;5;241m.\u001b[39mlisten)\n",
      "File \u001b[0;32m~/miniconda3/envs/automat/lib/python3.10/site-packages/keyboard/__init__.py:196\u001b[0m, in \u001b[0;36m_KeyboardListener.init\u001b[0;34m(self)\u001b[0m\n\u001b[1;32m    195\u001b[0m \u001b[38;5;28;01mdef\u001b[39;00m \u001b[38;5;21minit\u001b[39m(\u001b[38;5;28mself\u001b[39m):\n\u001b[0;32m--> 196\u001b[0m     \u001b[43m_os_keyboard\u001b[49m\u001b[38;5;241;43m.\u001b[39;49m\u001b[43minit\u001b[49m\u001b[43m(\u001b[49m\u001b[43m)\u001b[49m\n\u001b[1;32m    198\u001b[0m     \u001b[38;5;28mself\u001b[39m\u001b[38;5;241m.\u001b[39mactive_modifiers \u001b[38;5;241m=\u001b[39m \u001b[38;5;28mset\u001b[39m()\n\u001b[1;32m    199\u001b[0m     \u001b[38;5;28mself\u001b[39m\u001b[38;5;241m.\u001b[39mblocking_hooks \u001b[38;5;241m=\u001b[39m []\n",
      "File \u001b[0;32m~/miniconda3/envs/automat/lib/python3.10/site-packages/keyboard/_nixkeyboard.py:113\u001b[0m, in \u001b[0;36minit\u001b[0;34m()\u001b[0m\n\u001b[1;32m    112\u001b[0m \u001b[38;5;28;01mdef\u001b[39;00m \u001b[38;5;21minit\u001b[39m():\n\u001b[0;32m--> 113\u001b[0m     \u001b[43mbuild_device\u001b[49m\u001b[43m(\u001b[49m\u001b[43m)\u001b[49m\n\u001b[1;32m    114\u001b[0m     build_tables()\n",
      "File \u001b[0;32m~/miniconda3/envs/automat/lib/python3.10/site-packages/keyboard/_nixkeyboard.py:109\u001b[0m, in \u001b[0;36mbuild_device\u001b[0;34m()\u001b[0m\n\u001b[1;32m    107\u001b[0m \u001b[38;5;28;01mglobal\u001b[39;00m device\n\u001b[1;32m    108\u001b[0m \u001b[38;5;28;01mif\u001b[39;00m device: \u001b[38;5;28;01mreturn\u001b[39;00m\n\u001b[0;32m--> 109\u001b[0m \u001b[43mensure_root\u001b[49m\u001b[43m(\u001b[49m\u001b[43m)\u001b[49m\n\u001b[1;32m    110\u001b[0m device \u001b[38;5;241m=\u001b[39m aggregate_devices(\u001b[38;5;124m'\u001b[39m\u001b[38;5;124mkbd\u001b[39m\u001b[38;5;124m'\u001b[39m)\n",
      "File \u001b[0;32m~/miniconda3/envs/automat/lib/python3.10/site-packages/keyboard/_nixcommon.py:174\u001b[0m, in \u001b[0;36mensure_root\u001b[0;34m()\u001b[0m\n\u001b[1;32m    172\u001b[0m \u001b[38;5;28;01mdef\u001b[39;00m \u001b[38;5;21mensure_root\u001b[39m():\n\u001b[1;32m    173\u001b[0m     \u001b[38;5;28;01mif\u001b[39;00m os\u001b[38;5;241m.\u001b[39mgeteuid() \u001b[38;5;241m!=\u001b[39m \u001b[38;5;241m0\u001b[39m:\n\u001b[0;32m--> 174\u001b[0m         \u001b[38;5;28;01mraise\u001b[39;00m \u001b[38;5;167;01mImportError\u001b[39;00m(\u001b[38;5;124m'\u001b[39m\u001b[38;5;124mYou must be root to use this library on linux.\u001b[39m\u001b[38;5;124m'\u001b[39m)\n",
      "\u001b[0;31mImportError\u001b[0m: You must be root to use this library on linux."
     ]
    }
   ],
   "source": [
    "from monitorlib import Monitorpc\n",
    "\n",
    "pc = Monitorpc(Tf = 10)\n",
    "pc.start()"
   ]
  },
  {
   "cell_type": "code",
   "execution_count": null,
   "id": "c36b36b6-e1a7-40bf-8b55-d04779fec871",
   "metadata": {},
   "outputs": [],
   "source": [
    "sudo apt-get install git\n",
    "\n",
    "To work locally\n",
    "\n",
    "git init  Iniica una reporsitorio local\n",
    "git add (files)   Añade archivos al Index\n",
    "git status   Checar el arbol de trabajo\n",
    "git commit    Update changes in Index\n",
    "\n",
    "To work remotely \n",
    "\n",
    "git push    Exportarlo al repositorio remoto\n",
    "git pull    Importar el repositorio remoto version ultima a la PC local\n",
    "git clone    Clona el repositorio en una nueva carpeta\n",
    "\n",
    "git config --global user.name 'Erik Zamora'\n",
    "git config --global user.email 'ezamora1981@gmail.com'\n",
    "git add .\n",
    "git add file1 file2\n",
    "git add *.py"
   ]
  },
  {
   "cell_type": "code",
   "execution_count": null,
   "id": "e1d56508-8a1f-45bd-a055-059d464cabf0",
   "metadata": {},
   "outputs": [],
   "source": [
    "Learning github desktop https://www.youtube.com/watch?v=8Dd7KRpKeaE\n",
    "\n",
    "https://gist.github.com/berkorbay/6feda478a00b0432d13f1fc0a50467f1\n",
    "\n",
    "## Follow this link for further updates to Github Desktop for Ubuntu https://github.com/shiftkey/desktop/releases/latest\n",
    "# UPDATE (2022-11-07): Thanks to Sxvxgee's message, the updated code is as follows\n",
    "sudo wget https://github.com/shiftkey/desktop/releases/download/release-3.1.1-linux1/GitHubDesktop-linux-3.1.1-linux1.deb\n",
    "sudo apt-get install gdebi-core \n",
    "sudo gdebi GitHubDesktop-linux-3.1.1-linux1.deb"
   ]
  }
 ],
 "metadata": {
  "kernelspec": {
   "display_name": "Python 3 (ipykernel)",
   "language": "python",
   "name": "python3"
  },
  "language_info": {
   "codemirror_mode": {
    "name": "ipython",
    "version": 3
   },
   "file_extension": ".py",
   "mimetype": "text/x-python",
   "name": "python",
   "nbconvert_exporter": "python",
   "pygments_lexer": "ipython3",
   "version": "3.10.0"
  }
 },
 "nbformat": 4,
 "nbformat_minor": 5
}
